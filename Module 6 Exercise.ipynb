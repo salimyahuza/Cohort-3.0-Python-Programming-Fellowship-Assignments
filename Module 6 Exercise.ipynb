{
 "cells": [
  {
   "cell_type": "code",
   "execution_count": null,
   "id": "211cf28f-23cc-405c-9a29-92f72f6a1e8e",
   "metadata": {},
   "outputs": [],
   "source": [
    "# Create an empty dictionary called dog\n",
    "dog = {}\n",
    "\n",
    "# Add name, color, breed, legs, age to the dog dictionary\n",
    "dog['name'] = 'Buddy'\n",
    "dog['color'] = 'Brown'\n",
    "dog['breed'] = 'Labrador'\n",
    "dog['legs'] = 4\n",
    "dog['age'] = 5\n",
    "\n",
    "# Create a student dictionary and add first_name, last_name, gender, age, marital status, skills, country, city and address as keys for the dictionary\n",
    "student = {\n",
    "    'first_name': 'John',\n",
    "    'last_name': 'Doe',\n",
    "    'gender': 'Male',\n",
    "    'age': 22,\n",
    "    'marital_status': 'Single',\n",
    "    'skills': ['Python', 'Java'],\n",
    "    'country': 'USA',\n",
    "    'city': 'New York',\n",
    "    'address': '123 Main St'\n",
    "}\n",
    "\n",
    "# Get the length of the student dictionary\n",
    "student_length = len(student)\n",
    "print(f\"Length of student dictionary: {student_length}\")\n",
    "\n",
    "# Get the value of skills and check the data type, it should be a list\n",
    "skills = student['skills']\n",
    "skills_type = type(skills)\n",
    "print(f\"Skills: {skills}, Type: {skills_type}\")\n",
    "\n",
    "# Modify the skills values by adding one or two skills\n",
    "student['skills'].extend(['C++', 'JavaScript'])\n",
    "print(f\"Updated skills: {student['skills']}\")\n",
    "\n",
    "# Get the dictionary keys as a list\n",
    "student_keys = list(student.keys())\n",
    "print(f\"Student dictionary keys: {student_keys}\")\n",
    "\n",
    "# Get the dictionary values as a list\n",
    "student_values = list(student.values())\n",
    "print(f\"Student dictionary values: {student_values}\")\n",
    "\n",
    "# Change the dictionary to a list of tuples using items() method\n",
    "student_items = list(student.items())\n",
    "print(f\"Student dictionary as list of tuples: {student_items}\")\n",
    "\n",
    "# Delete one of the items in the dictionary\n",
    "del student['address']\n",
    "print(f\"Student dictionary after deleting address: {student}\")\n",
    "\n",
    "# Delete one of the dictionaries\n",
    "del dog\n",
    "print(\"Dog dictionary deleted.\")"
   ]
  }
 ],
 "metadata": {
  "kernelspec": {
   "display_name": "Python 3 (ipykernel)",
   "language": "python",
   "name": "python3"
  },
  "language_info": {
   "codemirror_mode": {
    "name": "ipython",
    "version": 3
   },
   "file_extension": ".py",
   "mimetype": "text/x-python",
   "name": "python",
   "nbconvert_exporter": "python",
   "pygments_lexer": "ipython3",
   "version": "3.12.4"
  }
 },
 "nbformat": 4,
 "nbformat_minor": 5
}
